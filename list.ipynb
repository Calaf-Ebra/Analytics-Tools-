{
 "cells": [
  {
   "cell_type": "code",
   "execution_count": 1,
   "metadata": {},
   "outputs": [
    {
     "name": "stdout",
     "output_type": "stream",
     "text": [
      "1\n",
      "2\n",
      "44\n",
      "55\n"
     ]
    }
   ],
   "source": [
    "x = (1,2,44,55)\n",
    "\n",
    "for y in x:\n",
    "    print(y)"
   ]
  },
  {
   "cell_type": "code",
   "execution_count": 2,
   "metadata": {},
   "outputs": [
    {
     "name": "stdout",
     "output_type": "stream",
     "text": [
      "012345"
     ]
    }
   ],
   "source": [
    "for x in range(6):\n",
    "    print(x, end = \"\")"
   ]
  },
  {
   "cell_type": "markdown",
   "metadata": {},
   "source": [
    "Nested Loops"
   ]
  },
  {
   "cell_type": "code",
   "execution_count": 3,
   "metadata": {},
   "outputs": [
    {
     "name": "stdout",
     "output_type": "stream",
     "text": [
      "[0, 0]\n",
      "[0, 1]\n",
      "[0, 2]\n",
      "[0, 3]\n",
      "[0, 4]\n",
      "[0, 5]\n",
      "[1, 0]\n",
      "[1, 1]\n",
      "[1, 2]\n",
      "[1, 3]\n",
      "[1, 4]\n",
      "[1, 5]\n",
      "[2, 0]\n",
      "[2, 1]\n",
      "[2, 2]\n",
      "[2, 3]\n",
      "[2, 4]\n",
      "[2, 5]\n"
     ]
    }
   ],
   "source": [
    "for x in range(3):\n",
    "    for d in range(6):\n",
    "        print([x,d])"
   ]
  },
  {
   "cell_type": "code",
   "execution_count": 4,
   "metadata": {},
   "outputs": [
    {
     "name": "stdout",
     "output_type": "stream",
     "text": [
      "['Watch', 1000]\n",
      "['Watch', 2000]\n",
      "['Watch', 3000]\n",
      "['Watch', 4000]\n",
      "['PC', 1000]\n",
      "['PC', 2000]\n",
      "['PC', 3000]\n",
      "['PC', 4000]\n"
     ]
    }
   ],
   "source": [
    "prods = ['Watch', 'PC']\n",
    "sales = [1000,2000,3000,4000]\n",
    "\n",
    "for i in prods:\n",
    "\n",
    "    for u in sales:\n",
    "        print([i,u])"
   ]
  },
  {
   "cell_type": "markdown",
   "metadata": {},
   "source": [
    "Triple Nested loops"
   ]
  },
  {
   "cell_type": "code",
   "execution_count": 5,
   "metadata": {},
   "outputs": [
    {
     "name": "stdout",
     "output_type": "stream",
     "text": [
      "['Watch', 12000]\n",
      "['Watch', 4000]\n",
      "['Watch', 24000]\n",
      "['Watch', 8000]\n",
      "['Watch', 36000]\n",
      "['Watch', 12000]\n",
      "['Watch', 48000]\n",
      "['Watch', 16000]\n",
      "['PC', 12000]\n",
      "['PC', 4000]\n",
      "['PC', 24000]\n",
      "['PC', 8000]\n",
      "['PC', 36000]\n",
      "['PC', 12000]\n",
      "['PC', 48000]\n",
      "['PC', 16000]\n"
     ]
    }
   ],
   "source": [
    "prods = ['Watch', 'PC']\n",
    "sales = [1000,2000,3000,4000]\n",
    "sizes = (12,4)\n",
    "\n",
    "for prod in prods:\n",
    "    for sale in sales:\n",
    "        for size in sizes:\n",
    "            print([prod, sale*size])"
   ]
  },
  {
   "cell_type": "markdown",
   "metadata": {},
   "source": [
    "List Comprehensions"
   ]
  },
  {
   "cell_type": "code",
   "execution_count": 6,
   "metadata": {},
   "outputs": [],
   "source": [
    "nums = [2,4,5]"
   ]
  },
  {
   "cell_type": "code",
   "execution_count": 7,
   "metadata": {},
   "outputs": [
    {
     "name": "stdout",
     "output_type": "stream",
     "text": [
      "[4]\n",
      "[4, 8]\n",
      "[4, 8, 10]\n"
     ]
    }
   ],
   "source": [
    "new = []\n",
    "\n",
    "for i in nums:\n",
    "    new.append(i*2)\n",
    "    print(new)"
   ]
  },
  {
   "cell_type": "markdown",
   "metadata": {},
   "source": [
    "### List Comprehn..."
   ]
  },
  {
   "cell_type": "code",
   "execution_count": 8,
   "metadata": {},
   "outputs": [
    {
     "data": {
      "text/plain": [
       "[20, 40, 60]"
      ]
     },
     "execution_count": 8,
     "metadata": {},
     "output_type": "execute_result"
    }
   ],
   "source": [
    "x = [10,20,30]\n",
    "x_com = [j *2 for j in x]\n",
    "x_com"
   ]
  },
  {
   "cell_type": "code",
   "execution_count": 9,
   "metadata": {},
   "outputs": [
    {
     "name": "stdout",
     "output_type": "stream",
     "text": [
      "[[0, 1, 2, 3, 4], [1, 2, 3, 4, 5], [2, 3, 4, 5, 6]]\n"
     ]
    }
   ],
   "source": [
    "nn = [[m+z for m in range(5)] for z in range(3)]\n",
    "print(nn)"
   ]
  },
  {
   "cell_type": "code",
   "execution_count": 19,
   "metadata": {},
   "outputs": [
    {
     "data": {
      "text/plain": [
       "[1, 'Even Num', 9, 'Even Num', 25]"
      ]
     },
     "execution_count": 19,
     "metadata": {},
     "output_type": "execute_result"
    }
   ],
   "source": [
    "### Lists with conditions\n",
    "con = [ d **2 if d% 2 != 0 else \"Even Num\"for d in range(1,6)  ]\n",
    "con"
   ]
  }
 ],
 "metadata": {
  "kernelspec": {
   "display_name": "Python 3",
   "language": "python",
   "name": "python3"
  },
  "language_info": {
   "codemirror_mode": {
    "name": "ipython",
    "version": 3
   },
   "file_extension": ".py",
   "mimetype": "text/x-python",
   "name": "python",
   "nbconvert_exporter": "python",
   "pygments_lexer": "ipython3",
   "version": "3.11.3"
  },
  "orig_nbformat": 4
 },
 "nbformat": 4,
 "nbformat_minor": 2
}
