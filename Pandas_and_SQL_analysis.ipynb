{
  "nbformat": 4,
  "nbformat_minor": 0,
  "metadata": {
    "colab": {
      "private_outputs": true,
      "provenance": []
    },
    "kernelspec": {
      "name": "python3",
      "display_name": "Python 3"
    },
    "language_info": {
      "name": "python"
    }
  },
  "cells": [
    {
      "cell_type": "code",
      "source": [
        "pip install ibm_db"
      ],
      "metadata": {
        "id": "PceyHZHl-8Ir"
      },
      "execution_count": null,
      "outputs": []
    },
    {
      "cell_type": "code",
      "source": [
        "import ibm_db as db"
      ],
      "metadata": {
        "id": "iSZ-uL0vUFNN"
      },
      "execution_count": null,
      "outputs": []
    },
    {
      "cell_type": "code",
      "source": [
        "#Replace the placeholder values with your actual Db2 hostname, username, and password:\n",
        "dsn_hostname = \"1bbf73c5-d84a-4bb0-85b9-ab1a4348f4a4.c3n41cmd0nqnrk39u98g.databases.appdomain.cloud\" # e.g.: \"54a2f15b-5c0f-46df-8954-7e38e612c2bd.c1ogj3sd0tgtu0lqde00.databases.appdomain.cloud\"\n",
        "dsn_uid = \"myt42210\"        # e.g. \"abc12345\"\n",
        "dsn_pwd = \"BicTxYRz4Yv3pLVX\"      # e.g. \"7dBZ3wWt9XN6$o0J\"\n",
        "\n",
        "dsn_driver = \"{IBM DB2 ODBC DRIVER}\"\n",
        "dsn_database = \"bludb\"            # e.g. \"BLUDB\"\n",
        "dsn_port = \"32286\"                # e.g. \"32733\"\n",
        "dsn_protocol = \"TCPIP\"            # i.e. \"TCPIP\"\n",
        "dsn_security = \"SSL\"              #i.e. \"SSL\""
      ],
      "metadata": {
        "id": "4K_JlXU0_GVi"
      },
      "execution_count": null,
      "outputs": []
    },
    {
      "cell_type": "code",
      "source": [
        "#DO NOT MODIFY THIS CELL. Just RUN it with Shift + Enter\n",
        "#Create the dsn connection string\n",
        "dsn = (\n",
        "    \"DRIVER={0};\"\n",
        "    \"DATABASE={1};\"\n",
        "    \"HOSTNAME={2};\"\n",
        "    \"PORT={3};\"\n",
        "    \"PROTOCOL={4};\"\n",
        "    \"UID={5};\"\n",
        "    \"PWD={6};\"\n",
        "    \"SECURITY={7};\").format(dsn_driver, dsn_database, dsn_hostname, dsn_port, dsn_protocol, dsn_uid, dsn_pwd,dsn_security)\n",
        "\n",
        "#print the connection string to check correct values are specified\n",
        "print(dsn)"
      ],
      "metadata": {
        "id": "h0_wevzG_LE-"
      },
      "execution_count": null,
      "outputs": []
    },
    {
      "cell_type": "code",
      "source": [
        "#DO NOT MODIFY THIS CELL. Just RUN it with Shift + Enter\n",
        "#Create database connection\n",
        "\n",
        "try:\n",
        "    conn = db.connect(dsn, \"\", \"\")\n",
        "    print (\"Connected to database: \", dsn_database, \"as user: \", dsn_uid, \"on host: \", dsn_hostname)\n",
        "\n",
        "except:\n",
        "    print (\"Unable to connect: \", db.conn_errormsg() )\n"
      ],
      "metadata": {
        "id": "9TXlreTj_OGg"
      },
      "execution_count": null,
      "outputs": []
    },
    {
      "cell_type": "code",
      "source": [
        "#Retrieve Metadata for the Database Server\n",
        "server = db.server_info(conn)\n",
        "\n",
        "print (\"DBMS_NAME: \", server.DBMS_NAME)\n",
        "print (\"DBMS_VER:  \", server.DBMS_VER)\n",
        "print (\"DB_NAME:   \", server.DB_NAME)"
      ],
      "metadata": {
        "id": "47icR9_K_VO1"
      },
      "execution_count": null,
      "outputs": []
    },
    {
      "cell_type": "code",
      "source": [
        "#Retrieve Metadata for the Database Client / Driver\n",
        "client = db.client_info(conn)\n",
        "\n",
        "print (\"DRIVER_NAME:          \", client.DRIVER_NAME)\n",
        "print (\"DRIVER_VER:           \", client.DRIVER_VER)\n",
        "print (\"DATA_SOURCE_NAME:     \", client.DATA_SOURCE_NAME)\n",
        "print (\"DRIVER_ODBC_VER:      \", client.DRIVER_ODBC_VER)\n",
        "print (\"ODBC_VER:             \", client.ODBC_VER)\n",
        "print (\"ODBC_SQL_CONFORMANCE: \", client.ODBC_SQL_CONFORMANCE)\n",
        "print (\"APPL_CODEPAGE:        \", client.APPL_CODEPAGE)\n",
        "print (\"CONN_CODEPAGE:        \", client.CONN_CODEPAGE)"
      ],
      "metadata": {
        "id": "xGIklSqk_WyM"
      },
      "execution_count": null,
      "outputs": []
    },
    {
      "cell_type": "markdown",
      "source": [
        "SQL Connection Finished ABOVE\n"
      ],
      "metadata": {
        "id": "zwekSJxk_qLj"
      }
    },
    {
      "cell_type": "code",
      "source": [
        "from google.colab import files\n",
        "uploaded=files.upload()"
      ],
      "metadata": {
        "id": "0qd_xiBF_oUJ"
      },
      "execution_count": null,
      "outputs": []
    },
    {
      "cell_type": "code",
      "source": [
        "import pandas as pd\n",
        "data=pd.read_csv(\"psql.csv\")\n",
        "df=pd.DataFrame(data)\n",
        "df.head()"
      ],
      "metadata": {
        "id": "bfnePM9KA4t2"
      },
      "execution_count": null,
      "outputs": []
    },
    {
      "cell_type": "code",
      "source": [
        "import ibm_db as db\n",
        "import pandas as pd"
      ],
      "metadata": {
        "id": "HZrHWB6pBJtr"
      },
      "execution_count": null,
      "outputs": []
    },
    {
      "cell_type": "code",
      "source": [
        "df.shape"
      ],
      "metadata": {
        "id": "tK7DToDbBQRx"
      },
      "execution_count": null,
      "outputs": []
    },
    {
      "cell_type": "code",
      "source": [
        "d=\"select * from CHI\"\n",
        "X=db.exec_immediate(conn,d)"
      ],
      "metadata": {
        "id": "hdiKMglFBcUj"
      },
      "execution_count": null,
      "outputs": []
    },
    {
      "cell_type": "code",
      "source": [
        "print(X)"
      ],
      "metadata": {
        "id": "ryF_i5UoDvoc"
      },
      "execution_count": null,
      "outputs": []
    },
    {
      "cell_type": "code",
      "source": [
        "# These libraries are pre-installed in SN Labs. If running in another environment please uncomment lines below to install them:\n",
        "!pip install --force-reinstall ibm_db==3.1.0 ibm_db_sa==0.3.3\n",
        "# Ensure we don't load_ext with sqlalchemy>=1.4 (incompadible)\n",
        "!pip uninstall sqlalchemy==1.4 -y && pip install sqlalchemy==1.3.24\n",
        "!pip install ipython-sql"
      ],
      "metadata": {
        "id": "O1_wFaCWEyyY"
      },
      "execution_count": null,
      "outputs": []
    },
    {
      "cell_type": "code",
      "source": [
        "select=\"select count(*) from CHI\"\n",
        "sel=db.exec_immediate(conn,select)\n",
        "db.fetch_both(sel)"
      ],
      "metadata": {
        "id": "KQq-dgajFnyy"
      },
      "execution_count": null,
      "outputs": []
    },
    {
      "cell_type": "code",
      "source": [
        "#How many community areas in Chicago have a hardship index greater than 50.0?\n",
        "hr='select count (*) from CHI where HARDSHIP_INDEX > 50.0'\n",
        "hrr=db.exec_immediate(conn,hr)\n",
        "db.fetch_both(hrr)\n",
        "\n",
        "#Correct answer is 38"
      ],
      "metadata": {
        "id": "mSjrE1chIB3I"
      },
      "execution_count": null,
      "outputs": []
    },
    {
      "cell_type": "code",
      "source": [
        "#What is the maximum value of hardship index in this dataset?\n",
        "d='select max(HARDSHIP_INDEX) from CHI'\n",
        "dd=db.exec_immediate(conn,d)\n",
        "db.fetch_both(dd)"
      ],
      "metadata": {
        "id": "cIs_nW5XI5gr"
      },
      "execution_count": null,
      "outputs": []
    },
    {
      "cell_type": "code",
      "source": [
        "#Which community area which has the highest hardship index?\n",
        "h='select COMMUNITY_AREA_NAME from CHI where HARDSHIP_INDEX = 98.0'\n",
        "hh=db.exec_immediate(conn,h)\n",
        "db.fetch_both(hh)\n",
        "\n",
        "\n",
        "#Other solutions\n",
        "\n",
        "#or another option:\n",
        "%sql SELECT community_area_name FROM chicago_socioeconomic_data ORDER BY hardship_index DESC NULLS LAST FETCH FIRST ROW ONLY;\n",
        "\n",
        "#or you can use a sub-query to determine the max hardship index:\n",
        "%sql select community_area_name from chicago_socioeconomic_data where hardship_index = ( select max(hardship_index) from chicago_socioeconomic_data )"
      ],
      "metadata": {
        "id": "SG_FvH-IJfYX"
      },
      "execution_count": null,
      "outputs": []
    },
    {
      "cell_type": "code",
      "source": [
        "#What are the top 10 schools with the highest \"Average Student Attendance\n",
        "%sql select Name_of_School, Average_Student_Attendance from SCHOOLS \\\n",
        "    order by Average_Student_Attendance desc nulls last limit 10"
      ],
      "metadata": {
        "id": "o75QVvKWf-L5"
      },
      "execution_count": null,
      "outputs": []
    },
    {
      "cell_type": "code",
      "source": [
        "#Which Chicago community areas have per-capita incomes greater than $60,000?\n",
        "c='select COMMUNITY_AREA_NAME from CHI where PER_CAPITA_INCOME >  60000'\n",
        "cc=db.exec_immediate(conn,c)\n",
        "a=db.fetch_both(cc)"
      ],
      "metadata": {
        "id": "SaSb4K7gKkAp"
      },
      "execution_count": null,
      "outputs": []
    },
    {
      "cell_type": "code",
      "source": [
        "#Which Schools have Average Student Attendance lower than 70%\n",
        "%sql SELECT Name_of_School, Average_Student_Attendance  \\\n",
        "     from SCHOOLS \\\n",
        "     where DECIMAL ( REPLACE(Average_Student_Attendance, '%', '') ) < 70 \\\n",
        "     order by Average_Student_Attendance"
      ],
      "metadata": {
        "id": "VGWmn9XM7rjn"
      },
      "execution_count": null,
      "outputs": []
    },
    {
      "cell_type": "code",
      "source": [
        "#Get the total College Enrollment for each Community Area\n",
        "%sql select Community_Area_Name, sum(College_Enrollment) AS TOTAL_ENROLLMENT \\\n",
        "   from SCHOOLS \\\n",
        "   group by Community_Area_Name\n"
      ],
      "metadata": {
        "id": "wPuIVYNN59d3"
      },
      "execution_count": null,
      "outputs": []
    },
    {
      "cell_type": "code",
      "source": [
        "#Get the 5 Community Areas with the least total College Enrollment sorted in ascending order\n",
        "%sql select Community_Area_Name, sum(College_Enrollment) AS TOTAL_ENROLLMENT \\\n",
        "   from SCHOOLS \\\n",
        "   group by Community_Area_Name \\\n",
        "   order by TOTAL_ENROLLMENT asc \\\n",
        "   fetch first 5 rows only"
      ],
      "metadata": {
        "id": "ngwhFR1q8bru"
      },
      "execution_count": null,
      "outputs": []
    },
    {
      "cell_type": "code",
      "source": [
        "#List 5 schools with lowest safety score\n",
        "%sql SELECT name_of_school, safety_score \\\n",
        "FROM schools \\\n",
        "ORDER BY safety_score \\\n",
        "LIMIT 5"
      ],
      "metadata": {
        "id": "lDaiMrlu8nST"
      },
      "execution_count": null,
      "outputs": []
    },
    {
      "cell_type": "code",
      "source": [
        "#Get the hardship index for the community area which has College Enrollment of 4368\n",
        "%%sql\n",
        "select hardship_index\n",
        "   from chicago_socioeconomic_data CD, schools CPS\n",
        "   where CD.ca = CPS.community_area_number\n",
        "      and college_enrollment = 4368"
      ],
      "metadata": {
        "id": "8bQlSuRQ82Cd"
      },
      "execution_count": null,
      "outputs": []
    },
    {
      "cell_type": "code",
      "source": [
        "#Get the hardship index for the community area which has the school with the highest enrollment\n",
        "%sql select ca, community_area_name, hardship_index from chicago_socioeconomic_data \\\n",
        "   where ca in \\\n",
        "   ( select community_area_number from schools order by college_enrollment desc limit 1 )"
      ],
      "metadata": {
        "id": "90PrPgi-9EpH"
      },
      "execution_count": null,
      "outputs": []
    },
    {
      "cell_type": "markdown",
      "source": [
        "QUerying Real World Datasets"
      ],
      "metadata": {
        "id": "7o0p-tSjaI8Q"
      }
    },
    {
      "cell_type": "code",
      "source": [
        "IBMgift2022\n",
        "\n"
      ],
      "metadata": {
        "id": "uAUvvRD4aNvu"
      },
      "execution_count": null,
      "outputs": []
    },
    {
      "cell_type": "markdown",
      "source": [
        "IBM Connection Plan"
      ],
      "metadata": {
        "id": "yyYLuNJOCyND"
      }
    },
    {
      "cell_type": "code",
      "source": [
        "# These libraries are pre-installed in SN Labs. If running in another environment please uncomment lines below to install them:\n",
        "!pip install --force-reinstall ibm_db==3.1.0 ibm_db_sa==0.3.3\n",
        "# Ensure we don't load_ext with sqlalchemy>=1.4 (incompadible)\n",
        "!pip uninstall sqlalchemy==1.4 -y && pip install sqlalchemy==1.3.24\n",
        "!pip install ipython-sql"
      ],
      "metadata": {
        "id": "Lmf16Rlcc-IA"
      },
      "execution_count": null,
      "outputs": []
    },
    {
      "cell_type": "code",
      "source": [
        "%load_ext sql"
      ],
      "metadata": {
        "id": "AYejhsDwC285"
      },
      "execution_count": null,
      "outputs": []
    },
    {
      "cell_type": "code",
      "source": [
        "# Remember the connection string is of the format:\n",
        "%sql ibm_db_sa://myt42210:BicTxYRz4Yv3pLVX@1bbf73c5-d84a-4bb0-85b9-ab1a4348f4a4.c3n41cmd0nqnrk39u98g.databases.appdomain.cloud:32286/bludb?security=SSL\n",
        "# Enter the connection string for your Db2 on Cloud database instance below\n",
        "#%sql ibm_db_sa://"
      ],
      "metadata": {
        "id": "QDFG6R8UC99r"
      },
      "execution_count": null,
      "outputs": []
    },
    {
      "cell_type": "code",
      "source": [
        "#Replace the placeholder values with your actual Db2 hostname, username, and password:\n",
        "dsn_hostname = \"1bbf73c5-d84a-4bb0-85b9-ab1a4348f4a4.c3n41cmd0nqnrk39u98g.databases.appdomain.cloud\" # e.g.: \"54a2f15b-5c0f-46df-8954-7e38e612c2bd.c1ogj3sd0tgtu0lqde00.databases.appdomain.cloud\"\n",
        "dsn_uid = \"myt42210\"        # e.g. \"abc12345\"\n",
        "dsn_pwd = \"BicTxYRz4Yv3pLVX\"      # e.g. \"7dBZ3wWt9XN6$o0J\"\n",
        "\n",
        "dsn_driver = \"{IBM DB2 ODBC DRIVER}\"\n",
        "dsn_database = \"bludb\"            # e.g. \"BLUDB\"\n",
        "dsn_port = \"32286\"                # e.g. \"32733\"\n",
        "dsn_protocol = \"TCPIP\"            # i.e. \"TCPIP\"\n",
        "dsn_security = \"SSL\"              #i.e. \"SSL\""
      ],
      "metadata": {
        "id": "n4oi1O-DDRCq"
      },
      "execution_count": null,
      "outputs": []
    }
  ]
}