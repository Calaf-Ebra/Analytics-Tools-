{
  "nbformat": 4,
  "nbformat_minor": 0,
  "metadata": {
    "colab": {
      "private_outputs": true,
      "provenance": []
    },
    "kernelspec": {
      "name": "python3",
      "display_name": "Python 3"
    },
    "language_info": {
      "name": "python"
    }
  },
  "cells": [
    {
      "cell_type": "code",
      "execution_count": null,
      "metadata": {
        "id": "UGe6XKvq_pBk"
      },
      "outputs": [],
      "source": [
        "import numpy as np\n",
        "from sklearn.model_selection import train_test_split"
      ]
    },
    {
      "cell_type": "code",
      "source": [
        "x= np.arange(1,101)\n",
        "x"
      ],
      "metadata": {
        "id": "H5Pv72NA_usZ"
      },
      "execution_count": null,
      "outputs": []
    },
    {
      "cell_type": "code",
      "source": [
        "y = np.arange(501,601)\n",
        "y"
      ],
      "metadata": {
        "id": "yci7hvgD_x3k"
      },
      "execution_count": null,
      "outputs": []
    },
    {
      "cell_type": "code",
      "source": [
        "train_test_split(x,y)\n",
        "\n",
        "## the first array is the training one and the second is testing one"
      ],
      "metadata": {
        "id": "HgFHugsthJma"
      },
      "execution_count": null,
      "outputs": []
    },
    {
      "cell_type": "code",
      "source": [
        "x_train, x_test=train_test_split(x, test_size=0.2,random_state=42) ## when u change the # a different shuffle will occur\n",
        "x_train.shape, x_test.shape"
      ],
      "metadata": {
        "id": "mT-l11OjhYOv"
      },
      "execution_count": null,
      "outputs": []
    },
    {
      "cell_type": "code",
      "source": [
        "y_train, y_test=train_test_split(y, test_size=0.2,random_state=42) ## when u change the # a different shuffle will occur\n",
        "y_train.shape, y_test.shape"
      ],
      "metadata": {
        "id": "w0QY1xUph4CP"
      },
      "execution_count": null,
      "outputs": []
    },
    {
      "cell_type": "code",
      "source": [
        "y_train"
      ],
      "metadata": {
        "id": "JPzXpoXQkB6R"
      },
      "execution_count": null,
      "outputs": []
    }
  ]
}