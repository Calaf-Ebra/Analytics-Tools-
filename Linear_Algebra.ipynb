{
  "nbformat": 4,
  "nbformat_minor": 0,
  "metadata": {
    "colab": {
      "private_outputs": true,
      "provenance": []
    },
    "kernelspec": {
      "name": "python3",
      "display_name": "Python 3"
    },
    "language_info": {
      "name": "python"
    }
  },
  "cells": [
    {
      "cell_type": "code",
      "execution_count": null,
      "metadata": {
        "id": "oU0_QdVQLUAG"
      },
      "outputs": [],
      "source": [
        "import numpy as np"
      ]
    },
    {
      "cell_type": "code",
      "source": [
        "### Creating a Tensor\n",
        "\n",
        "a = np.array([[1,2,3],[4,5,6]])\n",
        "b= np.array([[7,8,9],[10,11,12]])"
      ],
      "metadata": {
        "id": "98P4VTq1L2si"
      },
      "execution_count": null,
      "outputs": []
    },
    {
      "cell_type": "code",
      "source": [
        "t = np.array([a,b])\n"
      ],
      "metadata": {
        "id": "0Axe_Fc6MctL"
      },
      "execution_count": null,
      "outputs": []
    },
    {
      "cell_type": "code",
      "source": [
        "t"
      ],
      "metadata": {
        "id": "VuG0p6YYMnDt"
      },
      "execution_count": null,
      "outputs": []
    },
    {
      "cell_type": "code",
      "source": [
        "t.shape"
      ],
      "metadata": {
        "id": "cB8zPrzzMpVU"
      },
      "execution_count": null,
      "outputs": []
    },
    {
      "cell_type": "code",
      "source": [
        "#Addition\n",
        "\n",
        "a+b"
      ],
      "metadata": {
        "id": "bn3QoW52NqBe"
      },
      "execution_count": null,
      "outputs": []
    },
    {
      "cell_type": "code",
      "source": [
        "##Substraction\n",
        "a-b\n",
        "\n",
        "##Same rules apply for vectors"
      ],
      "metadata": {
        "id": "r_kN561xNyss"
      },
      "execution_count": null,
      "outputs": []
    },
    {
      "cell_type": "markdown",
      "source": [
        "Transpose"
      ],
      "metadata": {
        "id": "jIyd_bwSRRzt"
      }
    },
    {
      "cell_type": "code",
      "source": [
        "a"
      ],
      "metadata": {
        "id": "kkCDD708RTut"
      },
      "execution_count": null,
      "outputs": []
    },
    {
      "cell_type": "code",
      "source": [
        "a.T"
      ],
      "metadata": {
        "id": "DhU2ROhgSuPg"
      },
      "execution_count": null,
      "outputs": []
    },
    {
      "cell_type": "code",
      "source": [
        "v = np.array([1,2,3])"
      ],
      "metadata": {
        "id": "9zhXPAAdTCU9"
      },
      "execution_count": null,
      "outputs": []
    },
    {
      "cell_type": "code",
      "source": [
        "v.T"
      ],
      "metadata": {
        "id": "Z9N4HbPcTPSS"
      },
      "execution_count": null,
      "outputs": []
    },
    {
      "cell_type": "code",
      "source": [
        "v = v.reshape(1,3)\n",
        "v"
      ],
      "metadata": {
        "id": "ysnEy-vhTUkF"
      },
      "execution_count": null,
      "outputs": []
    },
    {
      "cell_type": "code",
      "source": [
        "v.T"
      ],
      "metadata": {
        "id": "6ZzhFnygTeeZ"
      },
      "execution_count": null,
      "outputs": []
    },
    {
      "cell_type": "code",
      "source": [
        "yy = np.dot(a,b)"
      ],
      "metadata": {
        "id": "yhpRBGQDV4UF"
      },
      "execution_count": null,
      "outputs": []
    }
  ]
}