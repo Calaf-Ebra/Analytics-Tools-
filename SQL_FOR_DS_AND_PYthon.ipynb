{
  "nbformat": 4,
  "nbformat_minor": 0,
  "metadata": {
    "colab": {
      "private_outputs": true,
      "provenance": []
    },
    "kernelspec": {
      "name": "python3",
      "display_name": "Python 3"
    },
    "language_info": {
      "name": "python"
    }
  },
  "cells": [
    {
      "cell_type": "markdown",
      "source": [
        "**Basic SQL- WEEK 1**"
      ],
      "metadata": {
        "id": "8NNPzDCGBwJC"
      }
    },
    {
      "cell_type": "code",
      "execution_count": null,
      "metadata": {
        "id": "RrrmHOdqBoJF"
      },
      "outputs": [],
      "source": [
        "1cf128005052714054f5192973366364\n",
        "PYTHONsql2022!\n",
        "1cf128005052714054f5192973366364\n",
        "\n",
        "SELECT column1, column2 FROM TABLENAME ;\n",
        "\n",
        "#THIS WILL SHOW ALL TABLE\n",
        "SELECT * FROM TABLENAME;\n",
        "\n",
        "#Conditionals\n",
        "SELECT * FROM TABLENAME WHERE id>5;\n",
        "\n",
        "#TEXT\n",
        "SELECT * FROM TABLENAME WHERE dept='IT';\n",
        "#Does not equal\n",
        "SELECT * FROM TABLENAME WHERE dept<>'IT';\n",
        "\n",
        "#Count\n",
        "SELECT COUNT (*) FROM Tablename;\n",
        "\n",
        "SELECT COUNT(Locations) FROM tablename WHERE Writer =\"James Cameron\";\n",
        "\n",
        "#Distict.. To show with out duplicates\n",
        "SELECT DISTINCT Title FROM tablename;\n",
        "\n",
        "SELECT COUNT(DISTINCT ReleaseYear) FROM Tname WHERE ProductionCompany=\"Calaf\":\n",
        "#Limit.. Limited number of rows\n",
        "SELECT * FROM Tname LIMIT 10;\n",
        "\n",
        "#Retrieve the next 3 film names distinctly after first 5 films released in 2015.\n",
        "SELECT DISTINCT Title FROM FilmLocations WHERE ReleaseYear=2015 LIMIT 3 OFFSET 5;\n",
        "\n",
        "#INSERT INTO TALE\n",
        "INSERT INTO TNAME (c1,c2,c3,c4)\n",
        "VALUES(V1,V2..);\n",
        "\n",
        "INSERT INTO Instructor(ins_id, lastname, firstname, city, country)\n",
        "VALUES(5, 'Doe', 'John', 'Sydney', 'AU'), (6, 'Doe', 'Jane', 'Dhaka', 'BD');\n",
        "#UPFATING TABLE\n",
        "UPDATE TNAME\n",
        "SET C1= V1,V2,V3\n",
        "WHERE name=\"jj\"l;\n",
        "\n",
        "update Instructor\n",
        "set city='Dhaka', country='BD'\n",
        "where ins_id=4;\n",
        "#DELETE\n",
        "DELETE FROM Tname\n",
        "WHERE condition ;\n"
      ]
    },
    {
      "cell_type": "markdown",
      "source": [
        "**W2- Creating Tables **"
      ],
      "metadata": {
        "id": "4qucacjXR6eO"
      }
    },
    {
      "cell_type": "code",
      "source": [
        "create table TEST(\n",
        "    ID integer,\n",
        "    NAME varchar(30)\n",
        ");\n",
        "\n",
        "#Another one\n",
        "create table COUNTRY(\n",
        "    ID int not null,\n",
        "    CCODE char(2),\n",
        "    Name varchar(12),\n",
        "    primary key(ID)\n",
        ");\n",
        "\n",
        "#Dropping tables\n",
        "\n",
        "drop table COUNTRY;\n",
        "create table COUNTRY(\n",
        "    ID int primary key  not null,\n",
        "    JOB  varchar(40),\n",
        "    LOCATION  varchar(29)\n",
        ")\n",
        "\n",
        "#Alter statement is used to change, delete, or modify a table\n",
        "alter table tname\n",
        "add column HEUGHT int not null;\n",
        "\n",
        "alter table tname\n",
        "drop column HEIGHT;\n",
        "\n",
        "alter table tname\n",
        "rename column 'height'to 'Height'\n",
        "#Remove all the crows instaed of removing entire table\n",
        "truncate table COUNTRY;"
      ],
      "metadata": {
        "id": "pzGMmZnBD1XB"
      },
      "execution_count": null,
      "outputs": []
    },
    {
      "cell_type": "markdown",
      "source": [
        "Table creation and munipulation full"
      ],
      "metadata": {
        "id": "QOqKIyHqmP15"
      }
    },
    {
      "cell_type": "code",
      "source": [
        "\n",
        "CREATE TABLE PETSALE (\n",
        "    ID INTEGER NOT NULL,\n",
        "    PET CHAR(20),\n",
        "    SALEPRICE DECIMAL(6,2),\n",
        "    PROFIT DECIMAL(6,2),\n",
        "    SALEDATE DATE\n",
        "    );\n",
        "\n",
        "CREATE TABLE PET (\n",
        "    ID INTEGER NOT NULL,\n",
        "    ANIMAL VARCHAR(20),\n",
        "    QUANTITY INTEGER\n",
        "    );\n",
        "\n",
        "insert into petsale values\n",
        "\t(1,'pig',100.6,200,'2022.9.10'),\n",
        "\t(2,'dog',100.6,200,'2022.9.10'),\n",
        "\t(3,'iraq',100.6,200,'2022.9.10'),\n",
        "\t(4,'bird',100.6,200,'2022.9.10');\n",
        "\n",
        "insert into PET values\n",
        "\t(1,'nouse',100),\n",
        "\t(2,'birds',400),\n",
        "\t(3,'lion',23);\n",
        "\n",
        "select * from PETSALE;\n",
        "select * from PET;\n",
        "\n",
        "alter table PETSALE\n",
        "add column QUANTITY integer;\n",
        "\n",
        "select * from PETSALE;\n",
        "\n",
        "update petsale  set QUANTITY =19 where ID =1;\n",
        "update petsale  set QUANTITY =15 where ID =2;\n",
        "update petsale  set QUANTITY =17 where ID =3;\n",
        "update petsale  set QUANTITY =90 where ID =4;\n",
        "update petsale  set QUANTITY =10 where ID =5;\n",
        "\n",
        "select * from PETSALE;\n",
        "\n",
        "alter table PETSALE\n",
        "drop column PROFIT;\n",
        "\n",
        "select * from PETSALE;\n",
        "\n",
        "alter table PETSALE\n",
        "alter column PET set data type varchar(20);\n",
        "\n",
        "select * from PETSALE;\n",
        "\n",
        "alter table PETSALE\n",
        "rename column PET to ANIMAL;\n",
        "select * from PETSALE;\n",
        "\n",
        "\n",
        "truncate table PET immediate;\n",
        "\n",
        "select * from PET;\n",
        "\n",
        "\n",
        "drop table PET;\n",
        "select * from PET;\n",
        "\n"
      ],
      "metadata": {
        "id": "WyocULOxmPR2"
      },
      "execution_count": null,
      "outputs": []
    },
    {
      "cell_type": "markdown",
      "source": [
        "Sorting, Grouping, and Joins\n",
        "\n",
        "\n",
        "---\n",
        "\n"
      ],
      "metadata": {
        "id": "Kpdg_aPi1_Bo"
      }
    },
    {
      "cell_type": "code",
      "source": [
        "#Retrieve all employees whose address is in Elgin,IL.\n",
        "SELECT F_NAME , L_NAME\n",
        "FROM EMPLOYEES\n",
        "WHERE ADDRESS LIKE '%Elgin,IL%';\n",
        "\n",
        "#Retrieve all employees who were born during the 1970's.\n",
        "SELECT F_NAME , L_NAME\n",
        "FROM EMPLOYEES\n",
        "WHERE B_DATE LIKE '197%';\n",
        "\n",
        "#Retrieve all employees in department 5 whose salary is between 60000 and 70000.\n",
        "\n",
        "SELECT *\n",
        "FROM EMPLOYEES\n",
        "WHERE (SALARY BETWEEN 60000 AND 70000) AND DEP_ID = 5;\n",
        "\n",
        "#SORTING\n",
        "\n",
        "#Retrieve a list of employees ordered by department ID.\n",
        "SELECT F_NAME, L_NAME, DEP_ID\n",
        "FROM EMPLOYEES\n",
        "ORDER BY DEP_ID;\n",
        "\n",
        "#Retrieve a list of employees ordered in descending order by department ID and within each department ordered alphabetically in descending order by last name.\n",
        "SELECT F_NAME, L_NAME, DEP_ID\n",
        "FROM EMPLOYEES\n",
        "ORDER BY DEP_ID DESC, L_NAME DESC;\n",
        "\n",
        "#Retrieve a list of employees ordered by department name, and within each department ordered alphabetically in descending order by last name.\n",
        "SELECT D.DEP_NAME , E.F_NAME, E.L_NAME\n",
        "FROM EMPLOYEES as E, DEPARTMENTS as D\n",
        "WHERE E.DEP_ID = D.DEPT_ID_DEP\n",
        "ORDER BY D.DEP_NAME, E.L_NAME DESC;"
      ],
      "metadata": {
        "id": "N0RtJy-fmT33"
      },
      "execution_count": null,
      "outputs": []
    },
    {
      "cell_type": "code",
      "source": [
        "#Grouping\n",
        "\n",
        "#For each department ID retrieve the number of employees in the department.\n",
        "SELECT DEP_ID, COUNT(*)\n",
        "FROM EMPLOYEES\n",
        "GROUP BY DEP_ID;\n",
        "\n",
        "#For each department retrieve the number of employees in the department, and the average employee salary in the department..\n",
        "SELECT DEP_ID, COUNT(*), AVG(SALARY)\n",
        "FROM EMPLOYEES\n",
        "GROUP BY DEP_ID;\n",
        "\n",
        "#Label the computed columns in the result set of SQL problem 2 (Exercise 3 Problem 2) as NUM_EMPLOYEES and AVG_SALARY.\n",
        "SELECT DEP_ID, COUNT(*) AS \"NUM_EMPLOYEES\", AVG(SALARY) AS \"AVG_SALARY\"\n",
        "FROM EMPLOYEES\n",
        "GROUP BY DEP_ID;\n",
        "\n",
        "#In SQL problem 3 (Exercise 3 Problem 3), order the result set by Average Salary..\n",
        "SELECT DEP_ID, COUNT(*) AS \"NUM_EMPLOYEES\", AVG(SALARY) AS \"AVG_SALARY\"\n",
        "FROM EMPLOYEES\n",
        "GROUP BY DEP_ID\n",
        "ORDER BY AVG_SALARY;\n",
        "\n",
        "#Limit with count of 4\n",
        "SELECT DEP_ID, COUNT(*) AS \"NUM_EMPLOYEES\", AVG(SALARY) AS \"AVG_SALARY\"\n",
        "FROM EMPLOYEES\n",
        "GROUP BY DEP_ID\n",
        "HAVING count(*) < 4\n",
        "ORDER BY AVG_SALARY;"
      ],
      "metadata": {
        "id": "1YBQDqEG8x3j"
      },
      "execution_count": null,
      "outputs": []
    },
    {
      "cell_type": "markdown",
      "source": [
        "Built in Functionas\n",
        "\n",
        "\n",
        "---\n",
        "\n"
      ],
      "metadata": {
        "id": "1yX4YJoe4W3o"
      }
    },
    {
      "cell_type": "code",
      "source": [
        "#Aggregate Function\n",
        "Query A1: Enter a function that calculates the total cost of all animal rescues in the PETRESCUE table.\n",
        "\n",
        "select SUM(COST) from PETRESCUE;\n",
        "select SUM(COST) AS SUM_OF_COST from PETRESCUE;\n",
        "select MAX(QUANTITY) from PETRESCUE;\n",
        "select AVG(QUANTITY) from PETRESCUE;\n",
        "select AVG(COST/QUANTITY) from PETRESCUE where ANIMAL = 'Dog';\n",
        "\n",
        "\n",
        "#String and Numbers Patterns Functions\n",
        "Query B1: Enter a function that displays the rounded cost of each rescue.\n",
        "\n",
        "select ROUND(COST) from PETRESCUE;\n",
        "\n",
        "Query B2: Enter a function that displays the length of each animal name.\n",
        "\n",
        "select LENGTH(ANIMAL) from PETRESCUE;\n",
        "\n",
        "Query B3: Enter a function that displays the animal name in each rescue in uppercase.\n",
        "\n",
        "select UCASE(ANIMAL) from PETRESCUE;\n",
        "\n",
        "Query B4: Enter a function that displays the animal name in each rescue in uppercase without duplications.\n",
        "\n",
        "select DISTINCT(UCASE(ANIMAL)) from PETRESCUE;\n",
        "\n",
        "Query B5: Enter a query that displays all the columns from the PETRESCUE table, where the animal(s) rescued are cats. Use cat in lower case in the query.\n",
        "\n",
        "select * from PETRESCUE where LCASE(ANIMAL) = 'cat';\n",
        "\n",
        "\n",
        "#Date and Time Functions\n",
        "\n",
        "Query C1: Enter a function that displays the day of the month when cats have been rescued.\n",
        "\n",
        "select DAY(RESCUEDATE) from PETRESCUE where ANIMAL = 'Cat';\n",
        "\n",
        "Query C2: Enter a function that displays the number of rescues on the 5th month.\n",
        "\n",
        "select SUM(QUANTITY) from PETRESCUE where MONTH(RESCUEDATE)='05';\n",
        "\n",
        "Query C3: Enter a function that displays the number of rescues on the 14th day of the month.\n",
        "\n",
        "select SUM(QUANTITY) from PETRESCUE where DAY(RESCUEDATE)='14';\n",
        "\n",
        "Query C4: Animals rescued should see the vet within three days of arrivals. Enter a function that displays the third day from each rescue.\n",
        "\n",
        "select (RESCUEDATE + 3 DAYS) from PETRESCUE;\n",
        "\n",
        "Query C5: Enter a function that displays the length of time the animals have been rescued; the difference between today’s date and the recue date.\n",
        "\n",
        "select (CURRENT DATE - RESCUEDATE) from PETRESCUE;"
      ],
      "metadata": {
        "id": "_aX0RswQ4b5O"
      },
      "execution_count": null,
      "outputs": []
    },
    {
      "cell_type": "markdown",
      "source": [
        "Sub Queries and Multiple Tables"
      ],
      "metadata": {
        "id": "fDo5jUAd5_Mr"
      }
    },
    {
      "cell_type": "code",
      "source": [
        "#Execute a working query using a sub-select to retrieve all employees records whose salary is lower than the average salary.\n",
        "select EMP_ID, F_NAME, L_NAME, SALARY\n",
        "from employees\n",
        "where SALARY < (select AVG(SALARY)\n",
        "                from employees);\n",
        "\n",
        "#Execute a Column Expression that retrieves all employees records with EMP_ID, SALARY and maximum salary as MAX_SALARY in every row.\n",
        "select EMP_ID, SALARY, ( select MAX(SALARY) from employees ) AS MAX_SALARY\n",
        "from employees;\n",
        "\n",
        "#Execute a Table Expression for the EMPLOYEES table that excludes columns with sensitive employee data (i.e. does not include columns: SSN, B_DATE, SEX, ADDRESS, SALARY).\n",
        "select * from ( select EMP_ID, F_NAME, L_NAME, DEP_ID from employees) AS EMP4ALL;\n",
        "\n",
        "\n",
        "#Multiple Tables\n",
        "#Retrieve only the EMPLOYEES records that correspond to jobs in the JOBS table.\n",
        "select * from employees where JOB_ID IN (select JOB_IDENT from jobs);\n",
        "\n",
        "#Retrieve only the list of employees whose JOB_TITLE is Jr. Designer.\n",
        "select * from employees where JOB_ID IN (select JOB_IDENT from jobs where JOB_TITLE= 'Jr. Designer');\n",
        "\n",
        "#Retrieve JOB information and who earn more than $70,000.\n",
        "select JOB_TITLE, MIN_SALARY,MAX_SALARY,JOB_IDENT from jobs where JOB_IDENT IN (select JOB_ID from employees where SALARY > 70000 );\n",
        "#Retrieve JOB information and whose birth year is after 1976.\n",
        "select JOB_TITLE, MIN_SALARY,MAX_SALARY,JOB_IDENT from jobs where JOB_IDENT IN (select JOB_ID from employees where YEAR(B_DATE)>1976 );\n",
        "#Retrieve JOB information for female employees whose birth year is after 1976.\n",
        "select JOB_TITLE, MIN_SALARY,MAX_SALARY,JOB_IDENT from jobs where JOB_IDENT IN (select JOB_ID from employees where YEAR(B_DATE)>1976 and SEX='F' );\n",
        "\n",
        "#Perform an implicit cartesian/cross join between EMPLOYEES and JOBS tables.\n",
        "select * from employees, jobs;\n",
        "\n",
        "#Retrieve only the EMPLOYEES records that correspond to jobs in the JOBS table.\n",
        "select * from employees, jobs where employees.JOB_ID = jobs.JOB_IDENT;\n",
        "#Redo the previous query, but retrieve only the Employee ID, Employee Name and Job Title.\n",
        "select EMP_ID,F_NAME,L_NAME, JOB_TITLE from employees E, jobs J where E.JOB_ID = J.JOB_IDENT;\n",
        "\n",
        "#Redo the previous query, but specify the fully qualified column names with aliases in the SELECT clause.\n",
        "select E.EMP_ID,E.F_NAME,E.L_NAME, J.JOB_TITLE from employees E, jobs J where E.JOB_ID = J.JOB_IDENT;\n",
        "\n"
      ],
      "metadata": {
        "id": "S7fSVsPS6CVu"
      },
      "execution_count": null,
      "outputs": []
    },
    {
      "cell_type": "code",
      "source": [
        "pip install sqllite"
      ],
      "metadata": {
        "id": "VWwZ7D3i_N7K"
      },
      "execution_count": null,
      "outputs": []
    }
  ]
}